{
  "nbformat": 4,
  "nbformat_minor": 0,
  "metadata": {
    "colab": {
      "provenance": []
    },
    "kernelspec": {
      "name": "python3",
      "display_name": "Python 3"
    },
    "language_info": {
      "name": "python"
    }
  },
  "cells": [
    {
      "cell_type": "code",
      "execution_count": null,
      "metadata": {
        "id": "9aJKhUDc6Lwj"
      },
      "outputs": [],
      "source": [
        "import pandas as pd\n",
        "import numpy as np\n",
        "import matplotlib.pyplot as plt\n",
        "import seaborn as sns\n",
        "from sklearn.preprocessing import StandardScaler\n",
        "scalar=StandardScaler()\n",
        "from sklearn.decomposition import PCA\n",
        "from sklearn.cluster import KMeans,AgglomerativeClustering,DBSCAN,SpectralClustering\n",
        "from sklearn.mixture import GaussianMixture\n",
        "from sklearn.metrics import silhouette_samples, silhouette_score\n",
        "from sklearn.tree import DecisionTreeClassifier\n",
        "from sklearn.model_selection import train_test_split\n",
        "from sklearn.metrics import classification_report\n",
        "from sklearn import tree\n",
        "from sklearn import metrics\n",
        "\n",
        "import warnings\n",
        "warnings.filterwarnings(\"ignore\")"
      ]
    },
    {
      "cell_type": "code",
      "source": [],
      "metadata": {
        "id": "qAcnIjPZlTcf"
      },
      "execution_count": null,
      "outputs": []
    },
    {
      "cell_type": "code",
      "source": [
        "import pandas as pd\n",
        "\n",
        "df=pd.read_csv('/content/Vitamind.csv')\n",
        "df.head()"
      ],
      "metadata": {
        "colab": {
          "base_uri": "https://localhost:8080/",
          "height": 206
        },
        "id": "g5tfXVDu6p3U",
        "outputId": "9d918280-fbb9-4282-b6cc-602ef5d9ebe3"
      },
      "execution_count": null,
      "outputs": [
        {
          "output_type": "execute_result",
          "data": {
            "text/plain": [
              "    ID DIET Exposure   Log Time  Breathing Frequency  Tidal volume  \\\n",
              "0  186   ND     Smog  0:00:00.2           666.666667      0.008245   \n",
              "1  186   ND     Smog  0:00:00.4           508.474576      0.007422   \n",
              "2  186   ND     Smog  0:00:00.5           697.674419      0.008343   \n",
              "3  186   ND     Smog  0:00:00.8           789.473684      0.009542   \n",
              "4  186   ND     Smog  0:00:01.0           681.818182      0.010990   \n",
              "\n",
              "   Inspiratory Time  Expiratory Time      Penh      Age Time of Experiment  \n",
              "0             0.036            0.054  0.220027  8 weeks          1st Buxco  \n",
              "1             0.034            0.084  0.301405  8 weeks          1st Buxco  \n",
              "2             0.034            0.052  0.060990  8 weeks          1st Buxco  \n",
              "3             0.034            0.042  0.066129  8 weeks          1st Buxco  \n",
              "4             0.040            0.048  0.074712  8 weeks          1st Buxco  "
            ],
            "text/html": [
              "\n",
              "  <div id=\"df-e1dba8a3-4987-4d2f-83f6-171d083771b1\">\n",
              "    <div class=\"colab-df-container\">\n",
              "      <div>\n",
              "<style scoped>\n",
              "    .dataframe tbody tr th:only-of-type {\n",
              "        vertical-align: middle;\n",
              "    }\n",
              "\n",
              "    .dataframe tbody tr th {\n",
              "        vertical-align: top;\n",
              "    }\n",
              "\n",
              "    .dataframe thead th {\n",
              "        text-align: right;\n",
              "    }\n",
              "</style>\n",
              "<table border=\"1\" class=\"dataframe\">\n",
              "  <thead>\n",
              "    <tr style=\"text-align: right;\">\n",
              "      <th></th>\n",
              "      <th>ID</th>\n",
              "      <th>DIET</th>\n",
              "      <th>Exposure</th>\n",
              "      <th>Log Time</th>\n",
              "      <th>Breathing Frequency</th>\n",
              "      <th>Tidal volume</th>\n",
              "      <th>Inspiratory Time</th>\n",
              "      <th>Expiratory Time</th>\n",
              "      <th>Penh</th>\n",
              "      <th>Age</th>\n",
              "      <th>Time of Experiment</th>\n",
              "    </tr>\n",
              "  </thead>\n",
              "  <tbody>\n",
              "    <tr>\n",
              "      <th>0</th>\n",
              "      <td>186</td>\n",
              "      <td>ND</td>\n",
              "      <td>Smog</td>\n",
              "      <td>0:00:00.2</td>\n",
              "      <td>666.666667</td>\n",
              "      <td>0.008245</td>\n",
              "      <td>0.036</td>\n",
              "      <td>0.054</td>\n",
              "      <td>0.220027</td>\n",
              "      <td>8 weeks</td>\n",
              "      <td>1st Buxco</td>\n",
              "    </tr>\n",
              "    <tr>\n",
              "      <th>1</th>\n",
              "      <td>186</td>\n",
              "      <td>ND</td>\n",
              "      <td>Smog</td>\n",
              "      <td>0:00:00.4</td>\n",
              "      <td>508.474576</td>\n",
              "      <td>0.007422</td>\n",
              "      <td>0.034</td>\n",
              "      <td>0.084</td>\n",
              "      <td>0.301405</td>\n",
              "      <td>8 weeks</td>\n",
              "      <td>1st Buxco</td>\n",
              "    </tr>\n",
              "    <tr>\n",
              "      <th>2</th>\n",
              "      <td>186</td>\n",
              "      <td>ND</td>\n",
              "      <td>Smog</td>\n",
              "      <td>0:00:00.5</td>\n",
              "      <td>697.674419</td>\n",
              "      <td>0.008343</td>\n",
              "      <td>0.034</td>\n",
              "      <td>0.052</td>\n",
              "      <td>0.060990</td>\n",
              "      <td>8 weeks</td>\n",
              "      <td>1st Buxco</td>\n",
              "    </tr>\n",
              "    <tr>\n",
              "      <th>3</th>\n",
              "      <td>186</td>\n",
              "      <td>ND</td>\n",
              "      <td>Smog</td>\n",
              "      <td>0:00:00.8</td>\n",
              "      <td>789.473684</td>\n",
              "      <td>0.009542</td>\n",
              "      <td>0.034</td>\n",
              "      <td>0.042</td>\n",
              "      <td>0.066129</td>\n",
              "      <td>8 weeks</td>\n",
              "      <td>1st Buxco</td>\n",
              "    </tr>\n",
              "    <tr>\n",
              "      <th>4</th>\n",
              "      <td>186</td>\n",
              "      <td>ND</td>\n",
              "      <td>Smog</td>\n",
              "      <td>0:00:01.0</td>\n",
              "      <td>681.818182</td>\n",
              "      <td>0.010990</td>\n",
              "      <td>0.040</td>\n",
              "      <td>0.048</td>\n",
              "      <td>0.074712</td>\n",
              "      <td>8 weeks</td>\n",
              "      <td>1st Buxco</td>\n",
              "    </tr>\n",
              "  </tbody>\n",
              "</table>\n",
              "</div>\n",
              "      <button class=\"colab-df-convert\" onclick=\"convertToInteractive('df-e1dba8a3-4987-4d2f-83f6-171d083771b1')\"\n",
              "              title=\"Convert this dataframe to an interactive table.\"\n",
              "              style=\"display:none;\">\n",
              "        \n",
              "  <svg xmlns=\"http://www.w3.org/2000/svg\" height=\"24px\"viewBox=\"0 0 24 24\"\n",
              "       width=\"24px\">\n",
              "    <path d=\"M0 0h24v24H0V0z\" fill=\"none\"/>\n",
              "    <path d=\"M18.56 5.44l.94 2.06.94-2.06 2.06-.94-2.06-.94-.94-2.06-.94 2.06-2.06.94zm-11 1L8.5 8.5l.94-2.06 2.06-.94-2.06-.94L8.5 2.5l-.94 2.06-2.06.94zm10 10l.94 2.06.94-2.06 2.06-.94-2.06-.94-.94-2.06-.94 2.06-2.06.94z\"/><path d=\"M17.41 7.96l-1.37-1.37c-.4-.4-.92-.59-1.43-.59-.52 0-1.04.2-1.43.59L10.3 9.45l-7.72 7.72c-.78.78-.78 2.05 0 2.83L4 21.41c.39.39.9.59 1.41.59.51 0 1.02-.2 1.41-.59l7.78-7.78 2.81-2.81c.8-.78.8-2.07 0-2.86zM5.41 20L4 18.59l7.72-7.72 1.47 1.35L5.41 20z\"/>\n",
              "  </svg>\n",
              "      </button>\n",
              "      \n",
              "  <style>\n",
              "    .colab-df-container {\n",
              "      display:flex;\n",
              "      flex-wrap:wrap;\n",
              "      gap: 12px;\n",
              "    }\n",
              "\n",
              "    .colab-df-convert {\n",
              "      background-color: #E8F0FE;\n",
              "      border: none;\n",
              "      border-radius: 50%;\n",
              "      cursor: pointer;\n",
              "      display: none;\n",
              "      fill: #1967D2;\n",
              "      height: 32px;\n",
              "      padding: 0 0 0 0;\n",
              "      width: 32px;\n",
              "    }\n",
              "\n",
              "    .colab-df-convert:hover {\n",
              "      background-color: #E2EBFA;\n",
              "      box-shadow: 0px 1px 2px rgba(60, 64, 67, 0.3), 0px 1px 3px 1px rgba(60, 64, 67, 0.15);\n",
              "      fill: #174EA6;\n",
              "    }\n",
              "\n",
              "    [theme=dark] .colab-df-convert {\n",
              "      background-color: #3B4455;\n",
              "      fill: #D2E3FC;\n",
              "    }\n",
              "\n",
              "    [theme=dark] .colab-df-convert:hover {\n",
              "      background-color: #434B5C;\n",
              "      box-shadow: 0px 1px 3px 1px rgba(0, 0, 0, 0.15);\n",
              "      filter: drop-shadow(0px 1px 2px rgba(0, 0, 0, 0.3));\n",
              "      fill: #FFFFFF;\n",
              "    }\n",
              "  </style>\n",
              "\n",
              "      <script>\n",
              "        const buttonEl =\n",
              "          document.querySelector('#df-e1dba8a3-4987-4d2f-83f6-171d083771b1 button.colab-df-convert');\n",
              "        buttonEl.style.display =\n",
              "          google.colab.kernel.accessAllowed ? 'block' : 'none';\n",
              "\n",
              "        async function convertToInteractive(key) {\n",
              "          const element = document.querySelector('#df-e1dba8a3-4987-4d2f-83f6-171d083771b1');\n",
              "          const dataTable =\n",
              "            await google.colab.kernel.invokeFunction('convertToInteractive',\n",
              "                                                     [key], {});\n",
              "          if (!dataTable) return;\n",
              "\n",
              "          const docLinkHtml = 'Like what you see? Visit the ' +\n",
              "            '<a target=\"_blank\" href=https://colab.research.google.com/notebooks/data_table.ipynb>data table notebook</a>'\n",
              "            + ' to learn more about interactive tables.';\n",
              "          element.innerHTML = '';\n",
              "          dataTable['output_type'] = 'display_data';\n",
              "          await google.colab.output.renderOutput(dataTable, element);\n",
              "          const docLink = document.createElement('div');\n",
              "          docLink.innerHTML = docLinkHtml;\n",
              "          element.appendChild(docLink);\n",
              "        }\n",
              "      </script>\n",
              "    </div>\n",
              "  </div>\n",
              "  "
            ]
          },
          "metadata": {},
          "execution_count": 158
        }
      ]
    },
    {
      "cell_type": "code",
      "source": [
        "df.drop('Log Time', axis=1, inplace=True)\n",
        "\n",
        "\n"
      ],
      "metadata": {
        "id": "j1N2AwLAo7l0"
      },
      "execution_count": null,
      "outputs": []
    },
    {
      "cell_type": "code",
      "source": [
        "df.drop('ID', axis=1, inplace=True)"
      ],
      "metadata": {
        "id": "WbyJhYrTpPCD"
      },
      "execution_count": null,
      "outputs": []
    },
    {
      "cell_type": "code",
      "source": [
        "df.shape"
      ],
      "metadata": {
        "colab": {
          "base_uri": "https://localhost:8080/"
        },
        "id": "Ai0rtEop6qCx",
        "outputId": "35962e99-b2c6-45df-adda-76d453a9748b"
      },
      "execution_count": null,
      "outputs": [
        {
          "output_type": "execute_result",
          "data": {
            "text/plain": [
              "(646759, 9)"
            ]
          },
          "metadata": {},
          "execution_count": 161
        }
      ]
    },
    {
      "cell_type": "code",
      "source": [
        "df.info()"
      ],
      "metadata": {
        "colab": {
          "base_uri": "https://localhost:8080/"
        },
        "id": "VJIbKZ3Z6qFe",
        "outputId": "34c3b7fe-20c8-4af9-c783-959a3b11ef2f"
      },
      "execution_count": null,
      "outputs": [
        {
          "output_type": "stream",
          "name": "stdout",
          "text": [
            "<class 'pandas.core.frame.DataFrame'>\n",
            "RangeIndex: 646759 entries, 0 to 646758\n",
            "Data columns (total 9 columns):\n",
            " #   Column               Non-Null Count   Dtype  \n",
            "---  ------               --------------   -----  \n",
            " 0   DIET                 646759 non-null  object \n",
            " 1   Exposure             625841 non-null  object \n",
            " 2   Breathing Frequency  646759 non-null  float64\n",
            " 3   Tidal volume         646759 non-null  float64\n",
            " 4   Inspiratory Time     646759 non-null  float64\n",
            " 5   Expiratory Time      646759 non-null  float64\n",
            " 6   Penh                 646759 non-null  float64\n",
            " 7   Age                  646759 non-null  object \n",
            " 8   Time of Experiment   646759 non-null  object \n",
            "dtypes: float64(5), object(4)\n",
            "memory usage: 44.4+ MB\n"
          ]
        }
      ]
    },
    {
      "cell_type": "code",
      "source": [
        "df.describe()"
      ],
      "metadata": {
        "colab": {
          "base_uri": "https://localhost:8080/",
          "height": 300
        },
        "id": "4siR2Hm46qIW",
        "outputId": "e340fa53-b824-46dd-c747-d5a5830b78e6"
      },
      "execution_count": null,
      "outputs": [
        {
          "output_type": "execute_result",
          "data": {
            "text/plain": [
              "       Breathing Frequency   Tidal volume  Inspiratory Time  Expiratory Time  \\\n",
              "count        646759.000000  646759.000000     646759.000000    646759.000000   \n",
              "mean            459.940332       0.024090          0.059197         0.079008   \n",
              "std             113.768734       0.008691          0.014474         0.027758   \n",
              "min               6.271547       0.003032          0.020000         0.020000   \n",
              "25%             379.746835       0.017414          0.048000         0.064000   \n",
              "50%             428.571429       0.024130          0.060000         0.078000   \n",
              "75%             526.315790       0.030023          0.070000         0.088000   \n",
              "max            1304.347826       0.160295          0.940658         9.175017   \n",
              "\n",
              "                Penh  \n",
              "count  646759.000000  \n",
              "mean        1.151103  \n",
              "std         0.815384  \n",
              "min         0.000000  \n",
              "25%         0.554216  \n",
              "50%         0.995822  \n",
              "75%         1.558440  \n",
              "max        17.256006  "
            ],
            "text/html": [
              "\n",
              "  <div id=\"df-7704ab82-dbc8-420e-904c-8f017c0f6397\">\n",
              "    <div class=\"colab-df-container\">\n",
              "      <div>\n",
              "<style scoped>\n",
              "    .dataframe tbody tr th:only-of-type {\n",
              "        vertical-align: middle;\n",
              "    }\n",
              "\n",
              "    .dataframe tbody tr th {\n",
              "        vertical-align: top;\n",
              "    }\n",
              "\n",
              "    .dataframe thead th {\n",
              "        text-align: right;\n",
              "    }\n",
              "</style>\n",
              "<table border=\"1\" class=\"dataframe\">\n",
              "  <thead>\n",
              "    <tr style=\"text-align: right;\">\n",
              "      <th></th>\n",
              "      <th>Breathing Frequency</th>\n",
              "      <th>Tidal volume</th>\n",
              "      <th>Inspiratory Time</th>\n",
              "      <th>Expiratory Time</th>\n",
              "      <th>Penh</th>\n",
              "    </tr>\n",
              "  </thead>\n",
              "  <tbody>\n",
              "    <tr>\n",
              "      <th>count</th>\n",
              "      <td>646759.000000</td>\n",
              "      <td>646759.000000</td>\n",
              "      <td>646759.000000</td>\n",
              "      <td>646759.000000</td>\n",
              "      <td>646759.000000</td>\n",
              "    </tr>\n",
              "    <tr>\n",
              "      <th>mean</th>\n",
              "      <td>459.940332</td>\n",
              "      <td>0.024090</td>\n",
              "      <td>0.059197</td>\n",
              "      <td>0.079008</td>\n",
              "      <td>1.151103</td>\n",
              "    </tr>\n",
              "    <tr>\n",
              "      <th>std</th>\n",
              "      <td>113.768734</td>\n",
              "      <td>0.008691</td>\n",
              "      <td>0.014474</td>\n",
              "      <td>0.027758</td>\n",
              "      <td>0.815384</td>\n",
              "    </tr>\n",
              "    <tr>\n",
              "      <th>min</th>\n",
              "      <td>6.271547</td>\n",
              "      <td>0.003032</td>\n",
              "      <td>0.020000</td>\n",
              "      <td>0.020000</td>\n",
              "      <td>0.000000</td>\n",
              "    </tr>\n",
              "    <tr>\n",
              "      <th>25%</th>\n",
              "      <td>379.746835</td>\n",
              "      <td>0.017414</td>\n",
              "      <td>0.048000</td>\n",
              "      <td>0.064000</td>\n",
              "      <td>0.554216</td>\n",
              "    </tr>\n",
              "    <tr>\n",
              "      <th>50%</th>\n",
              "      <td>428.571429</td>\n",
              "      <td>0.024130</td>\n",
              "      <td>0.060000</td>\n",
              "      <td>0.078000</td>\n",
              "      <td>0.995822</td>\n",
              "    </tr>\n",
              "    <tr>\n",
              "      <th>75%</th>\n",
              "      <td>526.315790</td>\n",
              "      <td>0.030023</td>\n",
              "      <td>0.070000</td>\n",
              "      <td>0.088000</td>\n",
              "      <td>1.558440</td>\n",
              "    </tr>\n",
              "    <tr>\n",
              "      <th>max</th>\n",
              "      <td>1304.347826</td>\n",
              "      <td>0.160295</td>\n",
              "      <td>0.940658</td>\n",
              "      <td>9.175017</td>\n",
              "      <td>17.256006</td>\n",
              "    </tr>\n",
              "  </tbody>\n",
              "</table>\n",
              "</div>\n",
              "      <button class=\"colab-df-convert\" onclick=\"convertToInteractive('df-7704ab82-dbc8-420e-904c-8f017c0f6397')\"\n",
              "              title=\"Convert this dataframe to an interactive table.\"\n",
              "              style=\"display:none;\">\n",
              "        \n",
              "  <svg xmlns=\"http://www.w3.org/2000/svg\" height=\"24px\"viewBox=\"0 0 24 24\"\n",
              "       width=\"24px\">\n",
              "    <path d=\"M0 0h24v24H0V0z\" fill=\"none\"/>\n",
              "    <path d=\"M18.56 5.44l.94 2.06.94-2.06 2.06-.94-2.06-.94-.94-2.06-.94 2.06-2.06.94zm-11 1L8.5 8.5l.94-2.06 2.06-.94-2.06-.94L8.5 2.5l-.94 2.06-2.06.94zm10 10l.94 2.06.94-2.06 2.06-.94-2.06-.94-.94-2.06-.94 2.06-2.06.94z\"/><path d=\"M17.41 7.96l-1.37-1.37c-.4-.4-.92-.59-1.43-.59-.52 0-1.04.2-1.43.59L10.3 9.45l-7.72 7.72c-.78.78-.78 2.05 0 2.83L4 21.41c.39.39.9.59 1.41.59.51 0 1.02-.2 1.41-.59l7.78-7.78 2.81-2.81c.8-.78.8-2.07 0-2.86zM5.41 20L4 18.59l7.72-7.72 1.47 1.35L5.41 20z\"/>\n",
              "  </svg>\n",
              "      </button>\n",
              "      \n",
              "  <style>\n",
              "    .colab-df-container {\n",
              "      display:flex;\n",
              "      flex-wrap:wrap;\n",
              "      gap: 12px;\n",
              "    }\n",
              "\n",
              "    .colab-df-convert {\n",
              "      background-color: #E8F0FE;\n",
              "      border: none;\n",
              "      border-radius: 50%;\n",
              "      cursor: pointer;\n",
              "      display: none;\n",
              "      fill: #1967D2;\n",
              "      height: 32px;\n",
              "      padding: 0 0 0 0;\n",
              "      width: 32px;\n",
              "    }\n",
              "\n",
              "    .colab-df-convert:hover {\n",
              "      background-color: #E2EBFA;\n",
              "      box-shadow: 0px 1px 2px rgba(60, 64, 67, 0.3), 0px 1px 3px 1px rgba(60, 64, 67, 0.15);\n",
              "      fill: #174EA6;\n",
              "    }\n",
              "\n",
              "    [theme=dark] .colab-df-convert {\n",
              "      background-color: #3B4455;\n",
              "      fill: #D2E3FC;\n",
              "    }\n",
              "\n",
              "    [theme=dark] .colab-df-convert:hover {\n",
              "      background-color: #434B5C;\n",
              "      box-shadow: 0px 1px 3px 1px rgba(0, 0, 0, 0.15);\n",
              "      filter: drop-shadow(0px 1px 2px rgba(0, 0, 0, 0.3));\n",
              "      fill: #FFFFFF;\n",
              "    }\n",
              "  </style>\n",
              "\n",
              "      <script>\n",
              "        const buttonEl =\n",
              "          document.querySelector('#df-7704ab82-dbc8-420e-904c-8f017c0f6397 button.colab-df-convert');\n",
              "        buttonEl.style.display =\n",
              "          google.colab.kernel.accessAllowed ? 'block' : 'none';\n",
              "\n",
              "        async function convertToInteractive(key) {\n",
              "          const element = document.querySelector('#df-7704ab82-dbc8-420e-904c-8f017c0f6397');\n",
              "          const dataTable =\n",
              "            await google.colab.kernel.invokeFunction('convertToInteractive',\n",
              "                                                     [key], {});\n",
              "          if (!dataTable) return;\n",
              "\n",
              "          const docLinkHtml = 'Like what you see? Visit the ' +\n",
              "            '<a target=\"_blank\" href=https://colab.research.google.com/notebooks/data_table.ipynb>data table notebook</a>'\n",
              "            + ' to learn more about interactive tables.';\n",
              "          element.innerHTML = '';\n",
              "          dataTable['output_type'] = 'display_data';\n",
              "          await google.colab.output.renderOutput(dataTable, element);\n",
              "          const docLink = document.createElement('div');\n",
              "          docLink.innerHTML = docLinkHtml;\n",
              "          element.appendChild(docLink);\n",
              "        }\n",
              "      </script>\n",
              "    </div>\n",
              "  </div>\n",
              "  "
            ]
          },
          "metadata": {},
          "execution_count": 163
        }
      ]
    },
    {
      "cell_type": "code",
      "source": [
        "df.isnull().sum()"
      ],
      "metadata": {
        "colab": {
          "base_uri": "https://localhost:8080/"
        },
        "id": "fheGG8-J6qLw",
        "outputId": "37e99316-1f00-435a-887a-63772f53466d"
      },
      "execution_count": null,
      "outputs": [
        {
          "output_type": "execute_result",
          "data": {
            "text/plain": [
              "DIET                       0\n",
              "Exposure               20918\n",
              "Breathing Frequency        0\n",
              "Tidal volume               0\n",
              "Inspiratory Time           0\n",
              "Expiratory Time            0\n",
              "Penh                       0\n",
              "Age                        0\n",
              "Time of Experiment         0\n",
              "dtype: int64"
            ]
          },
          "metadata": {},
          "execution_count": 164
        }
      ]
    },
    {
      "cell_type": "code",
      "source": [
        "## Handling misisng values\n",
        "\n",
        "df['Exposure'].fillna(df['Exposure'].mode(), inplace = True)"
      ],
      "metadata": {
        "id": "00LFRYlDdEfL"
      },
      "execution_count": null,
      "outputs": []
    },
    {
      "cell_type": "code",
      "source": [
        "df.isnull().sum()"
      ],
      "metadata": {
        "colab": {
          "base_uri": "https://localhost:8080/"
        },
        "id": "_7cvMk97dOOi",
        "outputId": "f3b85193-2d56-4986-ce06-232190304ad9"
      },
      "execution_count": null,
      "outputs": [
        {
          "output_type": "execute_result",
          "data": {
            "text/plain": [
              "DIET                       0\n",
              "Exposure               20918\n",
              "Breathing Frequency        0\n",
              "Tidal volume               0\n",
              "Inspiratory Time           0\n",
              "Expiratory Time            0\n",
              "Penh                       0\n",
              "Age                        0\n",
              "Time of Experiment         0\n",
              "dtype: int64"
            ]
          },
          "metadata": {},
          "execution_count": 166
        }
      ]
    },
    {
      "cell_type": "code",
      "source": [
        "from sklearn.preprocessing import LabelEncoder,MinMaxScaler,StandardScaler\n",
        "\n",
        "\n",
        "le = LabelEncoder()\n",
        "# Function that auto encodes any dataframe column of type category or object.\n",
        "def dummyEncode(df):\n",
        "\n",
        "        columnsToEncode = list(df.select_dtypes(include=['category','object']))\n",
        "        le = LabelEncoder()\n",
        "        for feature in columnsToEncode:\n",
        "            try:\n",
        "                df[feature] = le.fit_transform(df[feature])\n",
        "            except:\n",
        "                print('Error encoding '+feature)\n",
        "        return df\n",
        "\n",
        "df = dummyEncode(df)"
      ],
      "metadata": {
        "id": "6cIEFlfj7bMT"
      },
      "execution_count": null,
      "outputs": []
    },
    {
      "cell_type": "code",
      "source": [],
      "metadata": {
        "id": "l3z3JKpgdAuK"
      },
      "execution_count": null,
      "outputs": []
    },
    {
      "cell_type": "code",
      "source": [
        "df.info()"
      ],
      "metadata": {
        "colab": {
          "base_uri": "https://localhost:8080/"
        },
        "id": "bmx4YUNG8Het",
        "outputId": "cbd59578-6e5d-4cd4-daed-6c3fc3f31ea5"
      },
      "execution_count": null,
      "outputs": [
        {
          "output_type": "stream",
          "name": "stdout",
          "text": [
            "<class 'pandas.core.frame.DataFrame'>\n",
            "RangeIndex: 646759 entries, 0 to 646758\n",
            "Data columns (total 9 columns):\n",
            " #   Column               Non-Null Count   Dtype  \n",
            "---  ------               --------------   -----  \n",
            " 0   DIET                 646759 non-null  int64  \n",
            " 1   Exposure             646759 non-null  int64  \n",
            " 2   Breathing Frequency  646759 non-null  float64\n",
            " 3   Tidal volume         646759 non-null  float64\n",
            " 4   Inspiratory Time     646759 non-null  float64\n",
            " 5   Expiratory Time      646759 non-null  float64\n",
            " 6   Penh                 646759 non-null  float64\n",
            " 7   Age                  646759 non-null  int64  \n",
            " 8   Time of Experiment   646759 non-null  int64  \n",
            "dtypes: float64(5), int64(4)\n",
            "memory usage: 44.4 MB\n"
          ]
        }
      ]
    },
    {
      "cell_type": "code",
      "source": [],
      "metadata": {
        "id": "lTLotUvH8KZ_"
      },
      "execution_count": null,
      "outputs": []
    },
    {
      "cell_type": "code",
      "source": [
        "\n"
      ],
      "metadata": {
        "id": "i0seuU-5rA_b"
      },
      "execution_count": null,
      "outputs": []
    },
    {
      "cell_type": "code",
      "source": [
        "df.isnull().sum()"
      ],
      "metadata": {
        "colab": {
          "base_uri": "https://localhost:8080/"
        },
        "id": "GUQZEUI_8Kda",
        "outputId": "03c41f47-9a01-4396-b037-40a5311c4438"
      },
      "execution_count": null,
      "outputs": [
        {
          "output_type": "execute_result",
          "data": {
            "text/plain": [
              "DIET                   0\n",
              "Exposure               0\n",
              "Breathing Frequency    0\n",
              "Tidal volume           0\n",
              "Inspiratory Time       0\n",
              "Expiratory Time        0\n",
              "Penh                   0\n",
              "Age                    0\n",
              "Time of Experiment     0\n",
              "dtype: int64"
            ]
          },
          "metadata": {},
          "execution_count": 169
        }
      ]
    },
    {
      "cell_type": "code",
      "source": [
        "plt.figure(figsize=(30,45))\n",
        "for i, col in enumerate(df.columns):\n",
        "    if df[col].dtype != 'object':\n",
        "        ax = plt.subplot(9, 2, i+1)\n",
        "        sns.kdeplot(df[col], ax=ax)\n",
        "        plt.xlabel(col)\n",
        "\n",
        "plt.show()"
      ],
      "metadata": {
        "colab": {
          "base_uri": "https://localhost:8080/",
          "height": 955
        },
        "id": "4pj6S9OU8KpX",
        "outputId": "8e2108fe-4df1-402b-e11d-2964d961d3da"
      },
      "execution_count": null,
      "outputs": [
        {
          "output_type": "display_data",
          "data": {
            "text/plain": [
              "<Figure size 2160x3240 with 9 Axes>"
            ],
            "image/png": "[encoded data removed]"
          },
          "metadata": {
            "needs_background": "light"
          }
        }
      ]
    },
    {
      "cell_type": "code",
      "source": [],
      "metadata": {
        "id": "Tem-ua7b8Krx"
      },
      "execution_count": null,
      "outputs": []
    },
    {
      "cell_type": "code",
      "source": [
        "plt.figure(figsize=(12,12))\n",
        "sns.heatmap(df.corr(), annot=True)\n",
        "plt.show()"
      ],
      "metadata": {
        "colab": {
          "base_uri": "https://localhost:8080/",
          "height": 798
        },
        "id": "5GrA1s8_8KuX",
        "outputId": "ff07b251-d579-48e9-80c1-7965db3446db"
      },
      "execution_count": null,
      "outputs": [
        {
          "output_type": "display_data",
          "data": {
            "text/plain": [
              "<Figure size 864x864 with 2 Axes>"
            ],
            "image/png": "[encoded data removed]"
          },
          "metadata": {
            "needs_background": "light"
          }
        }
      ]
    },
    {
      "cell_type": "code",
      "source": [
        "### Scaling the dataset\n",
        "\n",
        "scaled_df = scalar.fit_transform(df)"
      ],
      "metadata": {
        "id": "6VBN4U048Kwv"
      },
      "execution_count": null,
      "outputs": []
    },
    {
      "cell_type": "code",
      "source": [
        "pca = PCA(n_components=2)\n",
        "principal_components = pca.fit_transform(scaled_df)\n",
        "pca_df = pd.DataFrame(data=principal_components ,columns=[\"PCA1\",\"PCA2\"])\n",
        "pca_df"
      ],
      "metadata": {
        "id": "S0_Vwe8T8K0I",
        "colab": {
          "base_uri": "https://localhost:8080/",
          "height": 423
        },
        "outputId": "d2dab9dd-0a32-4a4d-b104-a6c29e342197"
      },
      "execution_count": null,
      "outputs": [
        {
          "output_type": "execute_result",
          "data": {
            "text/plain": [
              "            PCA1      PCA2\n",
              "0      -3.321210  0.092165\n",
              "1      -2.203200  0.785685\n",
              "2      -3.591863 -0.014070\n",
              "3      -4.137006 -0.315650\n",
              "4      -3.227310 -0.178237\n",
              "...          ...       ...\n",
              "646754  1.488670  1.048156\n",
              "646755  1.538543  1.179116\n",
              "646756  0.678841  0.443480\n",
              "646757 -0.002853  0.822532\n",
              "646758  1.867583  2.099106\n",
              "\n",
              "[646759 rows x 2 columns]"
            ],
            "text/html": [
              "\n",
              "  <div id=\"df-6ed91ec1-203f-446a-ae72-03dee892931b\">\n",
              "    <div class=\"colab-df-container\">\n",
              "      <div>\n",
              "<style scoped>\n",
              "    .dataframe tbody tr th:only-of-type {\n",
              "        vertical-align: middle;\n",
              "    }\n",
              "\n",
              "    .dataframe tbody tr th {\n",
              "        vertical-align: top;\n",
              "    }\n",
              "\n",
              "    .dataframe thead th {\n",
              "        text-align: right;\n",
              "    }\n",
              "</style>\n",
              "<table border=\"1\" class=\"dataframe\">\n",
              "  <thead>\n",
              "    <tr style=\"text-align: right;\">\n",
              "      <th></th>\n",
              "      <th>PCA1</th>\n",
              "      <th>PCA2</th>\n",
              "    </tr>\n",
              "  </thead>\n",
              "  <tbody>\n",
              "    <tr>\n",
              "      <th>0</th>\n",
              "      <td>-3.321210</td>\n",
              "      <td>0.092165</td>\n",
              "    </tr>\n",
              "    <tr>\n",
              "      <th>1</th>\n",
              "      <td>-2.203200</td>\n",
              "      <td>0.785685</td>\n",
              "    </tr>\n",
              "    <tr>\n",
              "      <th>2</th>\n",
              "      <td>-3.591863</td>\n",
              "      <td>-0.014070</td>\n",
              "    </tr>\n",
              "    <tr>\n",
              "      <th>3</th>\n",
              "      <td>-4.137006</td>\n",
              "      <td>-0.315650</td>\n",
              "    </tr>\n",
              "    <tr>\n",
              "      <th>4</th>\n",
              "      <td>-3.227310</td>\n",
              "      <td>-0.178237</td>\n",
              "    </tr>\n",
              "    <tr>\n",
              "      <th>...</th>\n",
              "      <td>...</td>\n",
              "      <td>...</td>\n",
              "    </tr>\n",
              "    <tr>\n",
              "      <th>646754</th>\n",
              "      <td>1.488670</td>\n",
              "      <td>1.048156</td>\n",
              "    </tr>\n",
              "    <tr>\n",
              "      <th>646755</th>\n",
              "      <td>1.538543</td>\n",
              "      <td>1.179116</td>\n",
              "    </tr>\n",
              "    <tr>\n",
              "      <th>646756</th>\n",
              "      <td>0.678841</td>\n",
              "      <td>0.443480</td>\n",
              "    </tr>\n",
              "    <tr>\n",
              "      <th>646757</th>\n",
              "      <td>-0.002853</td>\n",
              "      <td>0.822532</td>\n",
              "    </tr>\n",
              "    <tr>\n",
              "      <th>646758</th>\n",
              "      <td>1.867583</td>\n",
              "      <td>2.099106</td>\n",
              "    </tr>\n",
              "  </tbody>\n",
              "</table>\n",
              "<p>646759 rows × 2 columns</p>\n",
              "</div>\n",
              "      <button class=\"colab-df-convert\" onclick=\"convertToInteractive('df-6ed91ec1-203f-446a-ae72-03dee892931b')\"\n",
              "              title=\"Convert this dataframe to an interactive table.\"\n",
              "              style=\"display:none;\">\n",
              "        \n",
              "  <svg xmlns=\"http://www.w3.org/2000/svg\" height=\"24px\"viewBox=\"0 0 24 24\"\n",
              "       width=\"24px\">\n",
              "    <path d=\"M0 0h24v24H0V0z\" fill=\"none\"/>\n",
              "    <path d=\"M18.56 5.44l.94 2.06.94-2.06 2.06-.94-2.06-.94-.94-2.06-.94 2.06-2.06.94zm-11 1L8.5 8.5l.94-2.06 2.06-.94-2.06-.94L8.5 2.5l-.94 2.06-2.06.94zm10 10l.94 2.06.94-2.06 2.06-.94-2.06-.94-.94-2.06-.94 2.06-2.06.94z\"/><path d=\"M17.41 7.96l-1.37-1.37c-.4-.4-.92-.59-1.43-.59-.52 0-1.04.2-1.43.59L10.3 9.45l-7.72 7.72c-.78.78-.78 2.05 0 2.83L4 21.41c.39.39.9.59 1.41.59.51 0 1.02-.2 1.41-.59l7.78-7.78 2.81-2.81c.8-.78.8-2.07 0-2.86zM5.41 20L4 18.59l7.72-7.72 1.47 1.35L5.41 20z\"/>\n",
              "  </svg>\n",
              "      </button>\n",
              "      \n",
              "  <style>\n",
              "    .colab-df-container {\n",
              "      display:flex;\n",
              "      flex-wrap:wrap;\n",
              "      gap: 12px;\n",
              "    }\n",
              "\n",
              "    .colab-df-convert {\n",
              "      background-color: #E8F0FE;\n",
              "      border: none;\n",
              "      border-radius: 50%;\n",
              "      cursor: pointer;\n",
              "      display: none;\n",
              "      fill: #1967D2;\n",
              "      height: 32px;\n",
              "      padding: 0 0 0 0;\n",
              "      width: 32px;\n",
              "    }\n",
              "\n",
              "    .colab-df-convert:hover {\n",
              "      background-color: #E2EBFA;\n",
              "      box-shadow: 0px 1px 2px rgba(60, 64, 67, 0.3), 0px 1px 3px 1px rgba(60, 64, 67, 0.15);\n",
              "      fill: #174EA6;\n",
              "    }\n",
              "\n",
              "    [theme=dark] .colab-df-convert {\n",
              "      background-color: #3B4455;\n",
              "      fill: #D2E3FC;\n",
              "    }\n",
              "\n",
              "    [theme=dark] .colab-df-convert:hover {\n",
              "      background-color: #434B5C;\n",
              "      box-shadow: 0px 1px 3px 1px rgba(0, 0, 0, 0.15);\n",
              "      filter: drop-shadow(0px 1px 2px rgba(0, 0, 0, 0.3));\n",
              "      fill: #FFFFFF;\n",
              "    }\n",
              "  </style>\n",
              "\n",
              "      <script>\n",
              "        const buttonEl =\n",
              "          document.querySelector('#df-6ed91ec1-203f-446a-ae72-03dee892931b button.colab-df-convert');\n",
              "        buttonEl.style.display =\n",
              "          google.colab.kernel.accessAllowed ? 'block' : 'none';\n",
              "\n",
              "        async function convertToInteractive(key) {\n",
              "          const element = document.querySelector('#df-6ed91ec1-203f-446a-ae72-03dee892931b');\n",
              "          const dataTable =\n",
              "            await google.colab.kernel.invokeFunction('convertToInteractive',\n",
              "                                                     [key], {});\n",
              "          if (!dataTable) return;\n",
              "\n",
              "          const docLinkHtml = 'Like what you see? Visit the ' +\n",
              "            '<a target=\"_blank\" href=https://colab.research.google.com/notebooks/data_table.ipynb>data table notebook</a>'\n",
              "            + ' to learn more about interactive tables.';\n",
              "          element.innerHTML = '';\n",
              "          dataTable['output_type'] = 'display_data';\n",
              "          await google.colab.output.renderOutput(dataTable, element);\n",
              "          const docLink = document.createElement('div');\n",
              "          docLink.innerHTML = docLinkHtml;\n",
              "          element.appendChild(docLink);\n",
              "        }\n",
              "      </script>\n",
              "    </div>\n",
              "  </div>\n",
              "  "
            ]
          },
          "metadata": {},
          "execution_count": 173
        }
      ]
    },
    {
      "cell_type": "code",
      "source": [
        "inertia = []\n",
        "range_val = range(1,15)\n",
        "for i in range_val:\n",
        "    kmean = KMeans(n_clusters=i)\n",
        "    kmean.fit_predict(pd.DataFrame(scaled_df))\n",
        "    inertia.append(kmean.inertia_)\n",
        "plt.plot(range_val,inertia,'bx-')\n",
        "plt.xlabel('Values of K')\n",
        "plt.ylabel('Inertia')\n",
        "plt.title('The Elbow Method using Inertia')\n",
        "plt.show()"
      ],
      "metadata": {
        "id": "4Lox-ElAhUAz",
        "colab": {
          "base_uri": "https://localhost:8080/",
          "height": 295
        },
        "outputId": "b6d9ed99-9df6-46e1-aa78-991ba7d57fba"
      },
      "execution_count": null,
      "outputs": [
        {
          "output_type": "display_data",
          "data": {
            "text/plain": [
              "<Figure size 432x288 with 1 Axes>"
            ],
            "image/png": "[encoded data removed]"
          },
          "metadata": {
            "needs_background": "light"
          }
        }
      ]
    },
    {
      "cell_type": "code",
      "source": [
        "\n",
        "kmeans_model=KMeans(3)\n",
        "kmeans_model.fit_predict(scaled_df)\n",
        "pca_df_kmeans= pd.concat([pca_df,pd.DataFrame({'cluster':kmeans_model.labels_})],axis=1)"
      ],
      "metadata": {
        "id": "mfqV1SHNivSY"
      },
      "execution_count": null,
      "outputs": []
    },
    {
      "cell_type": "code",
      "source": [
        "plt.figure(figsize=(8,8))\n",
        "ax=sns.scatterplot(x=\"PCA1\",y=\"PCA2\",hue=\"cluster\",data=pca_df_kmeans,palette=['red','green','blue'])\n",
        "plt.title(\"Clustering using K-Means Algorithm\")\n",
        "plt.show()"
      ],
      "metadata": {
        "id": "CzQTKg4ti7ro",
        "colab": {
          "base_uri": "https://localhost:8080/",
          "height": 513
        },
        "outputId": "11a3d449-25bc-4616-b304-eb2fb370c9c9"
      },
      "execution_count": null,
      "outputs": [
        {
          "output_type": "display_data",
          "data": {
            "text/plain": [
              "<Figure size 576x576 with 1 Axes>"
            ],
            "image/png": "[encoded data removed]"
          },
          "metadata": {
            "needs_background": "light"
          }
        }
      ]
    },
    {
      "cell_type": "code",
      "source": [
        "# find all cluster centers\n",
        "cluster_centers = pd.DataFrame(data=kmeans_model.cluster_centers_,columns=[df.columns])\n",
        "# inverse transform the data\n",
        "cluster_centers = scalar.inverse_transform(cluster_centers)\n",
        "cluster_centers = pd.DataFrame(data=cluster_centers,columns=[df.columns])\n",
        "cluster_centers"
      ],
      "metadata": {
        "id": "f1FPq19bj9OW",
        "colab": {
          "base_uri": "https://localhost:8080/",
          "height": 143
        },
        "outputId": "e9b4ef6d-a635-4423-fd45-a918913d174d"
      },
      "execution_count": null,
      "outputs": [
        {
          "output_type": "execute_result",
          "data": {
            "text/plain": [
              "       DIET  Exposure Breathing Frequency Tidal volume Inspiratory Time  \\\n",
              "0  0.000009  1.305765          397.868981     0.027840         0.067002   \n",
              "1  0.572322  1.175937          588.489041     0.016867         0.043493   \n",
              "2  1.000000  1.204364          400.303561     0.027185         0.066266   \n",
              "\n",
              "  Expiratory Time      Penh       Age Time of Experiment  \n",
              "0        0.087351  1.212026  2.117464           2.422382  \n",
              "1        0.061076  0.972438  3.377215           2.514716  \n",
              "2        0.087638  1.258857  1.968736           2.411986  "
            ],
            "text/html": [
              "\n",
              "  <div id=\"df-26a54899-5be6-4740-9d25-a748ccf6e6c5\">\n",
              "    <div class=\"colab-df-container\">\n",
              "      <div>\n",
              "<style scoped>\n",
              "    .dataframe tbody tr th:only-of-type {\n",
              "        vertical-align: middle;\n",
              "    }\n",
              "\n",
              "    .dataframe tbody tr th {\n",
              "        vertical-align: top;\n",
              "    }\n",
              "\n",
              "    .dataframe thead tr th {\n",
              "        text-align: left;\n",
              "    }\n",
              "</style>\n",
              "<table border=\"1\" class=\"dataframe\">\n",
              "  <thead>\n",
              "    <tr>\n",
              "      <th></th>\n",
              "      <th>DIET</th>\n",
              "      <th>Exposure</th>\n",
              "      <th>Breathing Frequency</th>\n",
              "      <th>Tidal volume</th>\n",
              "      <th>Inspiratory Time</th>\n",
              "      <th>Expiratory Time</th>\n",
              "      <th>Penh</th>\n",
              "      <th>Age</th>\n",
              "      <th>Time of Experiment</th>\n",
              "    </tr>\n",
              "  </thead>\n",
              "  <tbody>\n",
              "    <tr>\n",
              "      <th>0</th>\n",
              "      <td>0.000009</td>\n",
              "      <td>1.305765</td>\n",
              "      <td>397.868981</td>\n",
              "      <td>0.027840</td>\n",
              "      <td>0.067002</td>\n",
              "      <td>0.087351</td>\n",
              "      <td>1.212026</td>\n",
              "      <td>2.117464</td>\n",
              "      <td>2.422382</td>\n",
              "    </tr>\n",
              "    <tr>\n",
              "      <th>1</th>\n",
              "      <td>0.572322</td>\n",
              "      <td>1.175937</td>\n",
              "      <td>588.489041</td>\n",
              "      <td>0.016867</td>\n",
              "      <td>0.043493</td>\n",
              "      <td>0.061076</td>\n",
              "      <td>0.972438</td>\n",
              "      <td>3.377215</td>\n",
              "      <td>2.514716</td>\n",
              "    </tr>\n",
              "    <tr>\n",
              "      <th>2</th>\n",
              "      <td>1.000000</td>\n",
              "      <td>1.204364</td>\n",
              "      <td>400.303561</td>\n",
              "      <td>0.027185</td>\n",
              "      <td>0.066266</td>\n",
              "      <td>0.087638</td>\n",
              "      <td>1.258857</td>\n",
              "      <td>1.968736</td>\n",
              "      <td>2.411986</td>\n",
              "    </tr>\n",
              "  </tbody>\n",
              "</table>\n",
              "</div>\n",
              "      <button class=\"colab-df-convert\" onclick=\"convertToInteractive('df-26a54899-5be6-4740-9d25-a748ccf6e6c5')\"\n",
              "              title=\"Convert this dataframe to an interactive table.\"\n",
              "              style=\"display:none;\">\n",
              "        \n",
              "  <svg xmlns=\"http://www.w3.org/2000/svg\" height=\"24px\"viewBox=\"0 0 24 24\"\n",
              "       width=\"24px\">\n",
              "    <path d=\"M0 0h24v24H0V0z\" fill=\"none\"/>\n",
              "    <path d=\"M18.56 5.44l.94 2.06.94-2.06 2.06-.94-2.06-.94-.94-2.06-.94 2.06-2.06.94zm-11 1L8.5 8.5l.94-2.06 2.06-.94-2.06-.94L8.5 2.5l-.94 2.06-2.06.94zm10 10l.94 2.06.94-2.06 2.06-.94-2.06-.94-.94-2.06-.94 2.06-2.06.94z\"/><path d=\"M17.41 7.96l-1.37-1.37c-.4-.4-.92-.59-1.43-.59-.52 0-1.04.2-1.43.59L10.3 9.45l-7.72 7.72c-.78.78-.78 2.05 0 2.83L4 21.41c.39.39.9.59 1.41.59.51 0 1.02-.2 1.41-.59l7.78-7.78 2.81-2.81c.8-.78.8-2.07 0-2.86zM5.41 20L4 18.59l7.72-7.72 1.47 1.35L5.41 20z\"/>\n",
              "  </svg>\n",
              "      </button>\n",
              "      \n",
              "  <style>\n",
              "    .colab-df-container {\n",
              "      display:flex;\n",
              "      flex-wrap:wrap;\n",
              "      gap: 12px;\n",
              "    }\n",
              "\n",
              "    .colab-df-convert {\n",
              "      background-color: #E8F0FE;\n",
              "      border: none;\n",
              "      border-radius: 50%;\n",
              "      cursor: pointer;\n",
              "      display: none;\n",
              "      fill: #1967D2;\n",
              "      height: 32px;\n",
              "      padding: 0 0 0 0;\n",
              "      width: 32px;\n",
              "    }\n",
              "\n",
              "    .colab-df-convert:hover {\n",
              "      background-color: #E2EBFA;\n",
              "      box-shadow: 0px 1px 2px rgba(60, 64, 67, 0.3), 0px 1px 3px 1px rgba(60, 64, 67, 0.15);\n",
              "      fill: #174EA6;\n",
              "    }\n",
              "\n",
              "    [theme=dark] .colab-df-convert {\n",
              "      background-color: #3B4455;\n",
              "      fill: #D2E3FC;\n",
              "    }\n",
              "\n",
              "    [theme=dark] .colab-df-convert:hover {\n",
              "      background-color: #434B5C;\n",
              "      box-shadow: 0px 1px 3px 1px rgba(0, 0, 0, 0.15);\n",
              "      filter: drop-shadow(0px 1px 2px rgba(0, 0, 0, 0.3));\n",
              "      fill: #FFFFFF;\n",
              "    }\n",
              "  </style>\n",
              "\n",
              "      <script>\n",
              "        const buttonEl =\n",
              "          document.querySelector('#df-26a54899-5be6-4740-9d25-a748ccf6e6c5 button.colab-df-convert');\n",
              "        buttonEl.style.display =\n",
              "          google.colab.kernel.accessAllowed ? 'block' : 'none';\n",
              "\n",
              "        async function convertToInteractive(key) {\n",
              "          const element = document.querySelector('#df-26a54899-5be6-4740-9d25-a748ccf6e6c5');\n",
              "          const dataTable =\n",
              "            await google.colab.kernel.invokeFunction('convertToInteractive',\n",
              "                                                     [key], {});\n",
              "          if (!dataTable) return;\n",
              "\n",
              "          const docLinkHtml = 'Like what you see? Visit the ' +\n",
              "            '<a target=\"_blank\" href=https://colab.research.google.com/notebooks/data_table.ipynb>data table notebook</a>'\n",
              "            + ' to learn more about interactive tables.';\n",
              "          element.innerHTML = '';\n",
              "          dataTable['output_type'] = 'display_data';\n",
              "          await google.colab.output.renderOutput(dataTable, element);\n",
              "          const docLink = document.createElement('div');\n",
              "          docLink.innerHTML = docLinkHtml;\n",
              "          element.appendChild(docLink);\n",
              "        }\n",
              "      </script>\n",
              "    </div>\n",
              "  </div>\n",
              "  "
            ]
          },
          "metadata": {},
          "execution_count": 177
        }
      ]
    },
    {
      "cell_type": "code",
      "source": [
        "# Creating a target column \"Cluster\" for storing the cluster segment\n",
        "cluster_df = pd.concat([df,pd.DataFrame({'Cluster':kmeans_model.labels_})],axis=1)\n",
        "cluster_df"
      ],
      "metadata": {
        "id": "zokRdY1ZkHAi",
        "colab": {
          "base_uri": "https://localhost:8080/",
          "height": 423
        },
        "outputId": "76eab9b0-a120-4d5a-b408-63f21a2d460f"
      },
      "execution_count": null,
      "outputs": [
        {
          "output_type": "execute_result",
          "data": {
            "text/plain": [
              "        DIET  Exposure  Breathing Frequency  Tidal volume  Inspiratory Time  \\\n",
              "0          0         2           666.666667      0.008245             0.036   \n",
              "1          0         2           508.474576      0.007422             0.034   \n",
              "2          0         2           697.674419      0.008343             0.034   \n",
              "3          0         2           789.473684      0.009542             0.034   \n",
              "4          0         2           681.818182      0.010990             0.040   \n",
              "...      ...       ...                  ...           ...               ...   \n",
              "646754     1         2           384.615385      0.034555             0.070   \n",
              "646755     1         2           379.746835      0.034915             0.068   \n",
              "646756     1         2           468.750000      0.034461             0.072   \n",
              "646757     1         2           500.000000      0.031313             0.058   \n",
              "646758     1         2           326.086956      0.020011             0.080   \n",
              "\n",
              "        Expiratory Time      Penh  Age  Time of Experiment  Cluster  \n",
              "0                 0.054  0.220027    5                   0        1  \n",
              "1                 0.084  0.301405    5                   0        1  \n",
              "2                 0.052  0.060990    5                   0        1  \n",
              "3                 0.042  0.066129    5                   0        1  \n",
              "4                 0.048  0.074712    5                   0        1  \n",
              "...                 ...       ...  ...                 ...      ...  \n",
              "646754            0.086  1.984075    2                   5        2  \n",
              "646755            0.090  2.212418    2                   5        2  \n",
              "646756            0.056  1.761263    2                   5        2  \n",
              "646757            0.062  2.202002    2                   5        2  \n",
              "646758            0.104  2.926695    2                   5        2  \n",
              "\n",
              "[646759 rows x 10 columns]"
            ],
            "text/html": [
              "\n",
              "  <div id=\"df-444cadd6-ff40-4889-83fd-b31d4a36baef\">\n",
              "    <div class=\"colab-df-container\">\n",
              "      <div>\n",
              "<style scoped>\n",
              "    .dataframe tbody tr th:only-of-type {\n",
              "        vertical-align: middle;\n",
              "    }\n",
              "\n",
              "    .dataframe tbody tr th {\n",
              "        vertical-align: top;\n",
              "    }\n",
              "\n",
              "    .dataframe thead th {\n",
              "        text-align: right;\n",
              "    }\n",
              "</style>\n",
              "<table border=\"1\" class=\"dataframe\">\n",
              "  <thead>\n",
              "    <tr style=\"text-align: right;\">\n",
              "      <th></th>\n",
              "      <th>DIET</th>\n",
              "      <th>Exposure</th>\n",
              "      <th>Breathing Frequency</th>\n",
              "      <th>Tidal volume</th>\n",
              "      <th>Inspiratory Time</th>\n",
              "      <th>Expiratory Time</th>\n",
              "      <th>Penh</th>\n",
              "      <th>Age</th>\n",
              "      <th>Time of Experiment</th>\n",
              "      <th>Cluster</th>\n",
              "    </tr>\n",
              "  </thead>\n",
              "  <tbody>\n",
              "    <tr>\n",
              "      <th>0</th>\n",
              "      <td>0</td>\n",
              "      <td>2</td>\n",
              "      <td>666.666667</td>\n",
              "      <td>0.008245</td>\n",
              "      <td>0.036</td>\n",
              "      <td>0.054</td>\n",
              "      <td>0.220027</td>\n",
              "      <td>5</td>\n",
              "      <td>0</td>\n",
              "      <td>1</td>\n",
              "    </tr>\n",
              "    <tr>\n",
              "      <th>1</th>\n",
              "      <td>0</td>\n",
              "      <td>2</td>\n",
              "      <td>508.474576</td>\n",
              "      <td>0.007422</td>\n",
              "      <td>0.034</td>\n",
              "      <td>0.084</td>\n",
              "      <td>0.301405</td>\n",
              "      <td>5</td>\n",
              "      <td>0</td>\n",
              "      <td>1</td>\n",
              "    </tr>\n",
              "    <tr>\n",
              "      <th>2</th>\n",
              "      <td>0</td>\n",
              "      <td>2</td>\n",
              "      <td>697.674419</td>\n",
              "      <td>0.008343</td>\n",
              "      <td>0.034</td>\n",
              "      <td>0.052</td>\n",
              "      <td>0.060990</td>\n",
              "      <td>5</td>\n",
              "      <td>0</td>\n",
              "      <td>1</td>\n",
              "    </tr>\n",
              "    <tr>\n",
              "      <th>3</th>\n",
              "      <td>0</td>\n",
              "      <td>2</td>\n",
              "      <td>789.473684</td>\n",
              "      <td>0.009542</td>\n",
              "      <td>0.034</td>\n",
              "      <td>0.042</td>\n",
              "      <td>0.066129</td>\n",
              "      <td>5</td>\n",
              "      <td>0</td>\n",
              "      <td>1</td>\n",
              "    </tr>\n",
              "    <tr>\n",
              "      <th>4</th>\n",
              "      <td>0</td>\n",
              "      <td>2</td>\n",
              "      <td>681.818182</td>\n",
              "      <td>0.010990</td>\n",
              "      <td>0.040</td>\n",
              "      <td>0.048</td>\n",
              "      <td>0.074712</td>\n",
              "      <td>5</td>\n",
              "      <td>0</td>\n",
              "      <td>1</td>\n",
              "    </tr>\n",
              "    <tr>\n",
              "      <th>...</th>\n",
              "      <td>...</td>\n",
              "      <td>...</td>\n",
              "      <td>...</td>\n",
              "      <td>...</td>\n",
              "      <td>...</td>\n",
              "      <td>...</td>\n",
              "      <td>...</td>\n",
              "      <td>...</td>\n",
              "      <td>...</td>\n",
              "      <td>...</td>\n",
              "    </tr>\n",
              "    <tr>\n",
              "      <th>646754</th>\n",
              "      <td>1</td>\n",
              "      <td>2</td>\n",
              "      <td>384.615385</td>\n",
              "      <td>0.034555</td>\n",
              "      <td>0.070</td>\n",
              "      <td>0.086</td>\n",
              "      <td>1.984075</td>\n",
              "      <td>2</td>\n",
              "      <td>5</td>\n",
              "      <td>2</td>\n",
              "    </tr>\n",
              "    <tr>\n",
              "      <th>646755</th>\n",
              "      <td>1</td>\n",
              "      <td>2</td>\n",
              "      <td>379.746835</td>\n",
              "      <td>0.034915</td>\n",
              "      <td>0.068</td>\n",
              "      <td>0.090</td>\n",
              "      <td>2.212418</td>\n",
              "      <td>2</td>\n",
              "      <td>5</td>\n",
              "      <td>2</td>\n",
              "    </tr>\n",
              "    <tr>\n",
              "      <th>646756</th>\n",
              "      <td>1</td>\n",
              "      <td>2</td>\n",
              "      <td>468.750000</td>\n",
              "      <td>0.034461</td>\n",
              "      <td>0.072</td>\n",
              "      <td>0.056</td>\n",
              "      <td>1.761263</td>\n",
              "      <td>2</td>\n",
              "      <td>5</td>\n",
              "      <td>2</td>\n",
              "    </tr>\n",
              "    <tr>\n",
              "      <th>646757</th>\n",
              "      <td>1</td>\n",
              "      <td>2</td>\n",
              "      <td>500.000000</td>\n",
              "      <td>0.031313</td>\n",
              "      <td>0.058</td>\n",
              "      <td>0.062</td>\n",
              "      <td>2.202002</td>\n",
              "      <td>2</td>\n",
              "      <td>5</td>\n",
              "      <td>2</td>\n",
              "    </tr>\n",
              "    <tr>\n",
              "      <th>646758</th>\n",
              "      <td>1</td>\n",
              "      <td>2</td>\n",
              "      <td>326.086956</td>\n",
              "      <td>0.020011</td>\n",
              "      <td>0.080</td>\n",
              "      <td>0.104</td>\n",
              "      <td>2.926695</td>\n",
              "      <td>2</td>\n",
              "      <td>5</td>\n",
              "      <td>2</td>\n",
              "    </tr>\n",
              "  </tbody>\n",
              "</table>\n",
              "<p>646759 rows × 10 columns</p>\n",
              "</div>\n",
              "      <button class=\"colab-df-convert\" onclick=\"convertToInteractive('df-444cadd6-ff40-4889-83fd-b31d4a36baef')\"\n",
              "              title=\"Convert this dataframe to an interactive table.\"\n",
              "              style=\"display:none;\">\n",
              "        \n",
              "  <svg xmlns=\"http://www.w3.org/2000/svg\" height=\"24px\"viewBox=\"0 0 24 24\"\n",
              "       width=\"24px\">\n",
              "    <path d=\"M0 0h24v24H0V0z\" fill=\"none\"/>\n",
              "    <path d=\"M18.56 5.44l.94 2.06.94-2.06 2.06-.94-2.06-.94-.94-2.06-.94 2.06-2.06.94zm-11 1L8.5 8.5l.94-2.06 2.06-.94-2.06-.94L8.5 2.5l-.94 2.06-2.06.94zm10 10l.94 2.06.94-2.06 2.06-.94-2.06-.94-.94-2.06-.94 2.06-2.06.94z\"/><path d=\"M17.41 7.96l-1.37-1.37c-.4-.4-.92-.59-1.43-.59-.52 0-1.04.2-1.43.59L10.3 9.45l-7.72 7.72c-.78.78-.78 2.05 0 2.83L4 21.41c.39.39.9.59 1.41.59.51 0 1.02-.2 1.41-.59l7.78-7.78 2.81-2.81c.8-.78.8-2.07 0-2.86zM5.41 20L4 18.59l7.72-7.72 1.47 1.35L5.41 20z\"/>\n",
              "  </svg>\n",
              "      </button>\n",
              "      \n",
              "  <style>\n",
              "    .colab-df-container {\n",
              "      display:flex;\n",
              "      flex-wrap:wrap;\n",
              "      gap: 12px;\n",
              "    }\n",
              "\n",
              "    .colab-df-convert {\n",
              "      background-color: #E8F0FE;\n",
              "      border: none;\n",
              "      border-radius: 50%;\n",
              "      cursor: pointer;\n",
              "      display: none;\n",
              "      fill: #1967D2;\n",
              "      height: 32px;\n",
              "      padding: 0 0 0 0;\n",
              "      width: 32px;\n",
              "    }\n",
              "\n",
              "    .colab-df-convert:hover {\n",
              "      background-color: #E2EBFA;\n",
              "      box-shadow: 0px 1px 2px rgba(60, 64, 67, 0.3), 0px 1px 3px 1px rgba(60, 64, 67, 0.15);\n",
              "      fill: #174EA6;\n",
              "    }\n",
              "\n",
              "    [theme=dark] .colab-df-convert {\n",
              "      background-color: #3B4455;\n",
              "      fill: #D2E3FC;\n",
              "    }\n",
              "\n",
              "    [theme=dark] .colab-df-convert:hover {\n",
              "      background-color: #434B5C;\n",
              "      box-shadow: 0px 1px 3px 1px rgba(0, 0, 0, 0.15);\n",
              "      filter: drop-shadow(0px 1px 2px rgba(0, 0, 0, 0.3));\n",
              "      fill: #FFFFFF;\n",
              "    }\n",
              "  </style>\n",
              "\n",
              "      <script>\n",
              "        const buttonEl =\n",
              "          document.querySelector('#df-444cadd6-ff40-4889-83fd-b31d4a36baef button.colab-df-convert');\n",
              "        buttonEl.style.display =\n",
              "          google.colab.kernel.accessAllowed ? 'block' : 'none';\n",
              "\n",
              "        async function convertToInteractive(key) {\n",
              "          const element = document.querySelector('#df-444cadd6-ff40-4889-83fd-b31d4a36baef');\n",
              "          const dataTable =\n",
              "            await google.colab.kernel.invokeFunction('convertToInteractive',\n",
              "                                                     [key], {});\n",
              "          if (!dataTable) return;\n",
              "\n",
              "          const docLinkHtml = 'Like what you see? Visit the ' +\n",
              "            '<a target=\"_blank\" href=https://colab.research.google.com/notebooks/data_table.ipynb>data table notebook</a>'\n",
              "            + ' to learn more about interactive tables.';\n",
              "          element.innerHTML = '';\n",
              "          dataTable['output_type'] = 'display_data';\n",
              "          await google.colab.output.renderOutput(dataTable, element);\n",
              "          const docLink = document.createElement('div');\n",
              "          docLink.innerHTML = docLinkHtml;\n",
              "          element.appendChild(docLink);\n",
              "        }\n",
              "      </script>\n",
              "    </div>\n",
              "  </div>\n",
              "  "
            ]
          },
          "metadata": {},
          "execution_count": 178
        }
      ]
    },
    {
      "cell_type": "code",
      "source": [
        "# Creating a target column \"Cluster\" for storing the cluster segment\n",
        "cluster_df = pd.concat([df,pd.DataFrame({'Cluster':kmeans_model.labels_})],axis=1)\n",
        "cluster_df"
      ],
      "metadata": {
        "id": "4bd12pxQkTB3",
        "colab": {
          "base_uri": "https://localhost:8080/",
          "height": 423
        },
        "outputId": "faa5d2a9-8014-4b20-e5e7-e8b7fe7e6494"
      },
      "execution_count": null,
      "outputs": [
        {
          "output_type": "execute_result",
          "data": {
            "text/plain": [
              "        DIET  Exposure  Breathing Frequency  Tidal volume  Inspiratory Time  \\\n",
              "0          0         2           666.666667      0.008245             0.036   \n",
              "1          0         2           508.474576      0.007422             0.034   \n",
              "2          0         2           697.674419      0.008343             0.034   \n",
              "3          0         2           789.473684      0.009542             0.034   \n",
              "4          0         2           681.818182      0.010990             0.040   \n",
              "...      ...       ...                  ...           ...               ...   \n",
              "646754     1         2           384.615385      0.034555             0.070   \n",
              "646755     1         2           379.746835      0.034915             0.068   \n",
              "646756     1         2           468.750000      0.034461             0.072   \n",
              "646757     1         2           500.000000      0.031313             0.058   \n",
              "646758     1         2           326.086956      0.020011             0.080   \n",
              "\n",
              "        Expiratory Time      Penh  Age  Time of Experiment  Cluster  \n",
              "0                 0.054  0.220027    5                   0        1  \n",
              "1                 0.084  0.301405    5                   0        1  \n",
              "2                 0.052  0.060990    5                   0        1  \n",
              "3                 0.042  0.066129    5                   0        1  \n",
              "4                 0.048  0.074712    5                   0        1  \n",
              "...                 ...       ...  ...                 ...      ...  \n",
              "646754            0.086  1.984075    2                   5        2  \n",
              "646755            0.090  2.212418    2                   5        2  \n",
              "646756            0.056  1.761263    2                   5        2  \n",
              "646757            0.062  2.202002    2                   5        2  \n",
              "646758            0.104  2.926695    2                   5        2  \n",
              "\n",
              "[646759 rows x 10 columns]"
            ],
            "text/html": [
              "\n",
              "  <div id=\"df-8f5441e6-debf-41fe-a578-8029c4ad7c72\">\n",
              "    <div class=\"colab-df-container\">\n",
              "      <div>\n",
              "<style scoped>\n",
              "    .dataframe tbody tr th:only-of-type {\n",
              "        vertical-align: middle;\n",
              "    }\n",
              "\n",
              "    .dataframe tbody tr th {\n",
              "        vertical-align: top;\n",
              "    }\n",
              "\n",
              "    .dataframe thead th {\n",
              "        text-align: right;\n",
              "    }\n",
              "</style>\n",
              "<table border=\"1\" class=\"dataframe\">\n",
              "  <thead>\n",
              "    <tr style=\"text-align: right;\">\n",
              "      <th></th>\n",
              "      <th>DIET</th>\n",
              "      <th>Exposure</th>\n",
              "      <th>Breathing Frequency</th>\n",
              "      <th>Tidal volume</th>\n",
              "      <th>Inspiratory Time</th>\n",
              "      <th>Expiratory Time</th>\n",
              "      <th>Penh</th>\n",
              "      <th>Age</th>\n",
              "      <th>Time of Experiment</th>\n",
              "      <th>Cluster</th>\n",
              "    </tr>\n",
              "  </thead>\n",
              "  <tbody>\n",
              "    <tr>\n",
              "      <th>0</th>\n",
              "      <td>0</td>\n",
              "      <td>2</td>\n",
              "      <td>666.666667</td>\n",
              "      <td>0.008245</td>\n",
              "      <td>0.036</td>\n",
              "      <td>0.054</td>\n",
              "      <td>0.220027</td>\n",
              "      <td>5</td>\n",
              "      <td>0</td>\n",
              "      <td>1</td>\n",
              "    </tr>\n",
              "    <tr>\n",
              "      <th>1</th>\n",
              "      <td>0</td>\n",
              "      <td>2</td>\n",
              "      <td>508.474576</td>\n",
              "      <td>0.007422</td>\n",
              "      <td>0.034</td>\n",
              "      <td>0.084</td>\n",
              "      <td>0.301405</td>\n",
              "      <td>5</td>\n",
              "      <td>0</td>\n",
              "      <td>1</td>\n",
              "    </tr>\n",
              "    <tr>\n",
              "      <th>2</th>\n",
              "      <td>0</td>\n",
              "      <td>2</td>\n",
              "      <td>697.674419</td>\n",
              "      <td>0.008343</td>\n",
              "      <td>0.034</td>\n",
              "      <td>0.052</td>\n",
              "      <td>0.060990</td>\n",
              "      <td>5</td>\n",
              "      <td>0</td>\n",
              "      <td>1</td>\n",
              "    </tr>\n",
              "    <tr>\n",
              "      <th>3</th>\n",
              "      <td>0</td>\n",
              "      <td>2</td>\n",
              "      <td>789.473684</td>\n",
              "      <td>0.009542</td>\n",
              "      <td>0.034</td>\n",
              "      <td>0.042</td>\n",
              "      <td>0.066129</td>\n",
              "      <td>5</td>\n",
              "      <td>0</td>\n",
              "      <td>1</td>\n",
              "    </tr>\n",
              "    <tr>\n",
              "      <th>4</th>\n",
              "      <td>0</td>\n",
              "      <td>2</td>\n",
              "      <td>681.818182</td>\n",
              "      <td>0.010990</td>\n",
              "      <td>0.040</td>\n",
              "      <td>0.048</td>\n",
              "      <td>0.074712</td>\n",
              "      <td>5</td>\n",
              "      <td>0</td>\n",
              "      <td>1</td>\n",
              "    </tr>\n",
              "    <tr>\n",
              "      <th>...</th>\n",
              "      <td>...</td>\n",
              "      <td>...</td>\n",
              "      <td>...</td>\n",
              "      <td>...</td>\n",
              "      <td>...</td>\n",
              "      <td>...</td>\n",
              "      <td>...</td>\n",
              "      <td>...</td>\n",
              "      <td>...</td>\n",
              "      <td>...</td>\n",
              "    </tr>\n",
              "    <tr>\n",
              "      <th>646754</th>\n",
              "      <td>1</td>\n",
              "      <td>2</td>\n",
              "      <td>384.615385</td>\n",
              "      <td>0.034555</td>\n",
              "      <td>0.070</td>\n",
              "      <td>0.086</td>\n",
              "      <td>1.984075</td>\n",
              "      <td>2</td>\n",
              "      <td>5</td>\n",
              "      <td>2</td>\n",
              "    </tr>\n",
              "    <tr>\n",
              "      <th>646755</th>\n",
              "      <td>1</td>\n",
              "      <td>2</td>\n",
              "      <td>379.746835</td>\n",
              "      <td>0.034915</td>\n",
              "      <td>0.068</td>\n",
              "      <td>0.090</td>\n",
              "      <td>2.212418</td>\n",
              "      <td>2</td>\n",
              "      <td>5</td>\n",
              "      <td>2</td>\n",
              "    </tr>\n",
              "    <tr>\n",
              "      <th>646756</th>\n",
              "      <td>1</td>\n",
              "      <td>2</td>\n",
              "      <td>468.750000</td>\n",
              "      <td>0.034461</td>\n",
              "      <td>0.072</td>\n",
              "      <td>0.056</td>\n",
              "      <td>1.761263</td>\n",
              "      <td>2</td>\n",
              "      <td>5</td>\n",
              "      <td>2</td>\n",
              "    </tr>\n",
              "    <tr>\n",
              "      <th>646757</th>\n",
              "      <td>1</td>\n",
              "      <td>2</td>\n",
              "      <td>500.000000</td>\n",
              "      <td>0.031313</td>\n",
              "      <td>0.058</td>\n",
              "      <td>0.062</td>\n",
              "      <td>2.202002</td>\n",
              "      <td>2</td>\n",
              "      <td>5</td>\n",
              "      <td>2</td>\n",
              "    </tr>\n",
              "    <tr>\n",
              "      <th>646758</th>\n",
              "      <td>1</td>\n",
              "      <td>2</td>\n",
              "      <td>326.086956</td>\n",
              "      <td>0.020011</td>\n",
              "      <td>0.080</td>\n",
              "      <td>0.104</td>\n",
              "      <td>2.926695</td>\n",
              "      <td>2</td>\n",
              "      <td>5</td>\n",
              "      <td>2</td>\n",
              "    </tr>\n",
              "  </tbody>\n",
              "</table>\n",
              "<p>646759 rows × 10 columns</p>\n",
              "</div>\n",
              "      <button class=\"colab-df-convert\" onclick=\"convertToInteractive('df-8f5441e6-debf-41fe-a578-8029c4ad7c72')\"\n",
              "              title=\"Convert this dataframe to an interactive table.\"\n",
              "              style=\"display:none;\">\n",
              "        \n",
              "  <svg xmlns=\"http://www.w3.org/2000/svg\" height=\"24px\"viewBox=\"0 0 24 24\"\n",
              "       width=\"24px\">\n",
              "    <path d=\"M0 0h24v24H0V0z\" fill=\"none\"/>\n",
              "    <path d=\"M18.56 5.44l.94 2.06.94-2.06 2.06-.94-2.06-.94-.94-2.06-.94 2.06-2.06.94zm-11 1L8.5 8.5l.94-2.06 2.06-.94-2.06-.94L8.5 2.5l-.94 2.06-2.06.94zm10 10l.94 2.06.94-2.06 2.06-.94-2.06-.94-.94-2.06-.94 2.06-2.06.94z\"/><path d=\"M17.41 7.96l-1.37-1.37c-.4-.4-.92-.59-1.43-.59-.52 0-1.04.2-1.43.59L10.3 9.45l-7.72 7.72c-.78.78-.78 2.05 0 2.83L4 21.41c.39.39.9.59 1.41.59.51 0 1.02-.2 1.41-.59l7.78-7.78 2.81-2.81c.8-.78.8-2.07 0-2.86zM5.41 20L4 18.59l7.72-7.72 1.47 1.35L5.41 20z\"/>\n",
              "  </svg>\n",
              "      </button>\n",
              "      \n",
              "  <style>\n",
              "    .colab-df-container {\n",
              "      display:flex;\n",
              "      flex-wrap:wrap;\n",
              "      gap: 12px;\n",
              "    }\n",
              "\n",
              "    .colab-df-convert {\n",
              "      background-color: #E8F0FE;\n",
              "      border: none;\n",
              "      border-radius: 50%;\n",
              "      cursor: pointer;\n",
              "      display: none;\n",
              "      fill: #1967D2;\n",
              "      height: 32px;\n",
              "      padding: 0 0 0 0;\n",
              "      width: 32px;\n",
              "    }\n",
              "\n",
              "    .colab-df-convert:hover {\n",
              "      background-color: #E2EBFA;\n",
              "      box-shadow: 0px 1px 2px rgba(60, 64, 67, 0.3), 0px 1px 3px 1px rgba(60, 64, 67, 0.15);\n",
              "      fill: #174EA6;\n",
              "    }\n",
              "\n",
              "    [theme=dark] .colab-df-convert {\n",
              "      background-color: #3B4455;\n",
              "      fill: #D2E3FC;\n",
              "    }\n",
              "\n",
              "    [theme=dark] .colab-df-convert:hover {\n",
              "      background-color: #434B5C;\n",
              "      box-shadow: 0px 1px 3px 1px rgba(0, 0, 0, 0.15);\n",
              "      filter: drop-shadow(0px 1px 2px rgba(0, 0, 0, 0.3));\n",
              "      fill: #FFFFFF;\n",
              "    }\n",
              "  </style>\n",
              "\n",
              "      <script>\n",
              "        const buttonEl =\n",
              "          document.querySelector('#df-8f5441e6-debf-41fe-a578-8029c4ad7c72 button.colab-df-convert');\n",
              "        buttonEl.style.display =\n",
              "          google.colab.kernel.accessAllowed ? 'block' : 'none';\n",
              "\n",
              "        async function convertToInteractive(key) {\n",
              "          const element = document.querySelector('#df-8f5441e6-debf-41fe-a578-8029c4ad7c72');\n",
              "          const dataTable =\n",
              "            await google.colab.kernel.invokeFunction('convertToInteractive',\n",
              "                                                     [key], {});\n",
              "          if (!dataTable) return;\n",
              "\n",
              "          const docLinkHtml = 'Like what you see? Visit the ' +\n",
              "            '<a target=\"_blank\" href=https://colab.research.google.com/notebooks/data_table.ipynb>data table notebook</a>'\n",
              "            + ' to learn more about interactive tables.';\n",
              "          element.innerHTML = '';\n",
              "          dataTable['output_type'] = 'display_data';\n",
              "          await google.colab.output.renderOutput(dataTable, element);\n",
              "          const docLink = document.createElement('div');\n",
              "          docLink.innerHTML = docLinkHtml;\n",
              "          element.appendChild(docLink);\n",
              "        }\n",
              "      </script>\n",
              "    </div>\n",
              "  </div>\n",
              "  "
            ]
          },
          "metadata": {},
          "execution_count": 179
        }
      ]
    },
    {
      "cell_type": "code",
      "source": [
        "#Visualization\n",
        "sns.countplot(x='Cluster', data=cluster_df)\n"
      ],
      "metadata": {
        "id": "W0a1KRWUvg7U",
        "colab": {
          "base_uri": "https://localhost:8080/",
          "height": 296
        },
        "outputId": "059925f8-a194-4959-f341-c4cb311f0b1e"
      },
      "execution_count": null,
      "outputs": [
        {
          "output_type": "execute_result",
          "data": {
            "text/plain": [
              "<matplotlib.axes._subplots.AxesSubplot at 0x7f5c3aeefc70>"
            ]
          },
          "metadata": {},
          "execution_count": 180
        },
        {
          "output_type": "display_data",
          "data": {
            "text/plain": [
              "<Figure size 432x288 with 1 Axes>"
            ],
            "image/png": "[encoded data removed]"
          },
          "metadata": {
            "needs_background": "light"
          }
        }
      ]
    },
    {
      "cell_type": "code",
      "source": [
        "for c in cluster_df.drop(['Cluster'],axis=1):\n",
        "    grid= sns.FacetGrid(cluster_df, col='Cluster')\n",
        "    grid= grid.map(plt.hist, c)\n",
        "plt.show()"
      ],
      "metadata": {
        "id": "OdJcfEpzvsWp",
        "colab": {
          "base_uri": "https://localhost:8080/",
          "height": 1000
        },
        "outputId": "61d57301-da26-4120-8aa7-99161d7d0a32"
      },
      "execution_count": null,
      "outputs": [
        {
          "output_type": "display_data",
          "data": {
            "text/plain": [
              "<Figure size 648x216 with 3 Axes>"
            ],
            "image/png": "[encoded data removed]"
          },
          "metadata": {
            "needs_background": "light"
          }
        },
        {
          "output_type": "display_data",
          "data": {
            "text/plain": [
              "<Figure size 648x216 with 3 Axes>"
            ],
            "image/png": "[encoded data removed]"
          },
          "metadata": {
            "needs_background": "light"
          }
        },
        {
          "output_type": "display_data",
          "data": {
            "text/plain": [
              "<Figure size 648x216 with 3 Axes>"
            ],
            "image/png": "[encoded data removed]"
          },
          "metadata": {
            "needs_background": "light"
          }
        },
        {
          "output_type": "display_data",
          "data": {
            "text/plain": [
              "<Figure size 648x216 with 3 Axes>"
            ],
            "image/png": "[encoded data removed]"
          },
          "metadata": {
            "needs_background": "light"
          }
        },
        {
          "output_type": "display_data",
          "data": {
            "text/plain": [
              "<Figure size 648x216 with 3 Axes>"
            ],
            "image/png": "[encoded data removed]"
          },
          "metadata": {
            "needs_background": "light"
          }
        },
        {
          "output_type": "display_data",
          "data": {
            "text/plain": [
              "<Figure size 648x216 with 3 Axes>"
            ],
            "image/png": "[encoded data removed]"
          },
          "metadata": {
            "needs_background": "light"
          }
        },
        {
          "output_type": "display_data",
          "data": {
            "text/plain": [
              "<Figure size 648x216 with 3 Axes>"
            ],
            "image/png": "[encoded data removed]"
          },
          "metadata": {
            "needs_background": "light"
          }
        },
        {
          "output_type": "display_data",
          "data": {
            "text/plain": [
              "<Figure size 648x216 with 3 Axes>"
            ],
            "image/png": "[encoded data removed]"
          },
          "metadata": {
            "needs_background": "light"
          }
        },
        {
          "output_type": "display_data",
          "data": {
            "text/plain": [
              "<Figure size 648x216 with 3 Axes>"
            ],
            "image/png": "[encoded data removed]"
          },
          "metadata": {
            "needs_background": "light"
          }
        }
      ]
    },
    {
      "cell_type": "code",
      "source": [
        "#Saving Scikitlearn models\n",
        "import joblib\n",
        "joblib.dump(kmeans_model, \"kmeans_model.pkl\")"
      ],
      "metadata": {
        "id": "Tdt55m96AULn",
        "colab": {
          "base_uri": "https://localhost:8080/"
        },
        "outputId": "cd2eb969-7358-454d-aa67-77ada9f12755"
      },
      "execution_count": null,
      "outputs": [
        {
          "output_type": "execute_result",
          "data": {
            "text/plain": [
              "['kmeans_model.pkl']"
            ]
          },
          "metadata": {},
          "execution_count": 182
        }
      ]
    },
    {
      "cell_type": "code",
      "source": [
        "cluster_df.to_csv(\"Clustered_Customer_Data.csv\")"
      ],
      "metadata": {
        "id": "ES10fvMjAmOU"
      },
      "execution_count": null,
      "outputs": []
    },
    {
      "cell_type": "code",
      "source": [
        "#Split Dataset\n",
        "X = cluster_df.drop(['Cluster'],axis=1)\n",
        "y= cluster_df[['Cluster']]\n",
        "X_train, X_test, y_train, y_test =train_test_split(X, y, test_size=0.3)\n"
      ],
      "metadata": {
        "id": "Q9fhI5WVClQi"
      },
      "execution_count": null,
      "outputs": []
    },
    {
      "cell_type": "code",
      "source": [
        "X_train"
      ],
      "metadata": {
        "id": "oHNYH4tpCwTL",
        "colab": {
          "base_uri": "https://localhost:8080/",
          "height": 423
        },
        "outputId": "d0bea27c-b493-4fb3-f6e9-7f5919acdddd"
      },
      "execution_count": null,
      "outputs": [
        {
          "output_type": "execute_result",
          "data": {
            "text/plain": [
              "        DIET  Exposure  Breathing Frequency  Tidal volume  Inspiratory Time  \\\n",
              "615102     0         2           441.176471      0.031681             0.058   \n",
              "278488     1         1           280.373832      0.013012             0.062   \n",
              "117037     0         0           666.666667      0.015684             0.038   \n",
              "475277     0         1           379.746835      0.019741             0.066   \n",
              "212900     0         1           476.190476      0.028203             0.058   \n",
              "...      ...       ...                  ...           ...               ...   \n",
              "448355     1         0           345.274856      0.014285             0.066   \n",
              "184997     0         0           454.545455      0.026598             0.058   \n",
              "66285      0         2           526.315790      0.014824             0.042   \n",
              "285913     1         0           526.315790      0.018932             0.042   \n",
              "641329     1         2           344.827586      0.034102             0.086   \n",
              "\n",
              "        Expiratory Time      Penh  Age  Time of Experiment  \n",
              "615102         0.078000  1.498827    2                   5  \n",
              "278488         0.152000  0.828222    4                   4  \n",
              "117037         0.052000  0.373208    5                   0  \n",
              "475277         0.092000  6.003759    2                   5  \n",
              "212900         0.068000  0.667676    5                   0  \n",
              "...                 ...       ...  ...                 ...  \n",
              "448355         0.107775  3.660486    1                   2  \n",
              "184997         0.074000  1.655235    0                   1  \n",
              "66285          0.072000  0.685862    4                   4  \n",
              "285913         0.072000  0.328340    5                   0  \n",
              "641329         0.088000  1.547746    3                   3  \n",
              "\n",
              "[452731 rows x 9 columns]"
            ],
            "text/html": [
              "\n",
              "  <div id=\"df-d67d3449-b466-44bf-a01a-70f190e70fcc\">\n",
              "    <div class=\"colab-df-container\">\n",
              "      <div>\n",
              "<style scoped>\n",
              "    .dataframe tbody tr th:only-of-type {\n",
              "        vertical-align: middle;\n",
              "    }\n",
              "\n",
              "    .dataframe tbody tr th {\n",
              "        vertical-align: top;\n",
              "    }\n",
              "\n",
              "    .dataframe thead th {\n",
              "        text-align: right;\n",
              "    }\n",
              "</style>\n",
              "<table border=\"1\" class=\"dataframe\">\n",
              "  <thead>\n",
              "    <tr style=\"text-align: right;\">\n",
              "      <th></th>\n",
              "      <th>DIET</th>\n",
              "      <th>Exposure</th>\n",
              "      <th>Breathing Frequency</th>\n",
              "      <th>Tidal volume</th>\n",
              "      <th>Inspiratory Time</th>\n",
              "      <th>Expiratory Time</th>\n",
              "      <th>Penh</th>\n",
              "      <th>Age</th>\n",
              "      <th>Time of Experiment</th>\n",
              "    </tr>\n",
              "  </thead>\n",
              "  <tbody>\n",
              "    <tr>\n",
              "      <th>615102</th>\n",
              "      <td>0</td>\n",
              "      <td>2</td>\n",
              "      <td>441.176471</td>\n",
              "      <td>0.031681</td>\n",
              "      <td>0.058</td>\n",
              "      <td>0.078000</td>\n",
              "      <td>1.498827</td>\n",
              "      <td>2</td>\n",
              "      <td>5</td>\n",
              "    </tr>\n",
              "    <tr>\n",
              "      <th>278488</th>\n",
              "      <td>1</td>\n",
              "      <td>1</td>\n",
              "      <td>280.373832</td>\n",
              "      <td>0.013012</td>\n",
              "      <td>0.062</td>\n",
              "      <td>0.152000</td>\n",
              "      <td>0.828222</td>\n",
              "      <td>4</td>\n",
              "      <td>4</td>\n",
              "    </tr>\n",
              "    <tr>\n",
              "      <th>117037</th>\n",
              "      <td>0</td>\n",
              "      <td>0</td>\n",
              "      <td>666.666667</td>\n",
              "      <td>0.015684</td>\n",
              "      <td>0.038</td>\n",
              "      <td>0.052000</td>\n",
              "      <td>0.373208</td>\n",
              "      <td>5</td>\n",
              "      <td>0</td>\n",
              "    </tr>\n",
              "    <tr>\n",
              "      <th>475277</th>\n",
              "      <td>0</td>\n",
              "      <td>1</td>\n",
              "      <td>379.746835</td>\n",
              "      <td>0.019741</td>\n",
              "      <td>0.066</td>\n",
              "      <td>0.092000</td>\n",
              "      <td>6.003759</td>\n",
              "      <td>2</td>\n",
              "      <td>5</td>\n",
              "    </tr>\n",
              "    <tr>\n",
              "      <th>212900</th>\n",
              "      <td>0</td>\n",
              "      <td>1</td>\n",
              "      <td>476.190476</td>\n",
              "      <td>0.028203</td>\n",
              "      <td>0.058</td>\n",
              "      <td>0.068000</td>\n",
              "      <td>0.667676</td>\n",
              "      <td>5</td>\n",
              "      <td>0</td>\n",
              "    </tr>\n",
              "    <tr>\n",
              "      <th>...</th>\n",
              "      <td>...</td>\n",
              "      <td>...</td>\n",
              "      <td>...</td>\n",
              "      <td>...</td>\n",
              "      <td>...</td>\n",
              "      <td>...</td>\n",
              "      <td>...</td>\n",
              "      <td>...</td>\n",
              "      <td>...</td>\n",
              "    </tr>\n",
              "    <tr>\n",
              "      <th>448355</th>\n",
              "      <td>1</td>\n",
              "      <td>0</td>\n",
              "      <td>345.274856</td>\n",
              "      <td>0.014285</td>\n",
              "      <td>0.066</td>\n",
              "      <td>0.107775</td>\n",
              "      <td>3.660486</td>\n",
              "      <td>1</td>\n",
              "      <td>2</td>\n",
              "    </tr>\n",
              "    <tr>\n",
              "      <th>184997</th>\n",
              "      <td>0</td>\n",
              "      <td>0</td>\n",
              "      <td>454.545455</td>\n",
              "      <td>0.026598</td>\n",
              "      <td>0.058</td>\n",
              "      <td>0.074000</td>\n",
              "      <td>1.655235</td>\n",
              "      <td>0</td>\n",
              "      <td>1</td>\n",
              "    </tr>\n",
              "    <tr>\n",
              "      <th>66285</th>\n",
              "      <td>0</td>\n",
              "      <td>2</td>\n",
              "      <td>526.315790</td>\n",
              "      <td>0.014824</td>\n",
              "      <td>0.042</td>\n",
              "      <td>0.072000</td>\n",
              "      <td>0.685862</td>\n",
              "      <td>4</td>\n",
              "      <td>4</td>\n",
              "    </tr>\n",
              "    <tr>\n",
              "      <th>285913</th>\n",
              "      <td>1</td>\n",
              "      <td>0</td>\n",
              "      <td>526.315790</td>\n",
              "      <td>0.018932</td>\n",
              "      <td>0.042</td>\n",
              "      <td>0.072000</td>\n",
              "      <td>0.328340</td>\n",
              "      <td>5</td>\n",
              "      <td>0</td>\n",
              "    </tr>\n",
              "    <tr>\n",
              "      <th>641329</th>\n",
              "      <td>1</td>\n",
              "      <td>2</td>\n",
              "      <td>344.827586</td>\n",
              "      <td>0.034102</td>\n",
              "      <td>0.086</td>\n",
              "      <td>0.088000</td>\n",
              "      <td>1.547746</td>\n",
              "      <td>3</td>\n",
              "      <td>3</td>\n",
              "    </tr>\n",
              "  </tbody>\n",
              "</table>\n",
              "<p>452731 rows × 9 columns</p>\n",
              "</div>\n",
              "      <button class=\"colab-df-convert\" onclick=\"convertToInteractive('df-d67d3449-b466-44bf-a01a-70f190e70fcc')\"\n",
              "              title=\"Convert this dataframe to an interactive table.\"\n",
              "              style=\"display:none;\">\n",
              "        \n",
              "  <svg xmlns=\"http://www.w3.org/2000/svg\" height=\"24px\"viewBox=\"0 0 24 24\"\n",
              "       width=\"24px\">\n",
              "    <path d=\"M0 0h24v24H0V0z\" fill=\"none\"/>\n",
              "    <path d=\"M18.56 5.44l.94 2.06.94-2.06 2.06-.94-2.06-.94-.94-2.06-.94 2.06-2.06.94zm-11 1L8.5 8.5l.94-2.06 2.06-.94-2.06-.94L8.5 2.5l-.94 2.06-2.06.94zm10 10l.94 2.06.94-2.06 2.06-.94-2.06-.94-.94-2.06-.94 2.06-2.06.94z\"/><path d=\"M17.41 7.96l-1.37-1.37c-.4-.4-.92-.59-1.43-.59-.52 0-1.04.2-1.43.59L10.3 9.45l-7.72 7.72c-.78.78-.78 2.05 0 2.83L4 21.41c.39.39.9.59 1.41.59.51 0 1.02-.2 1.41-.59l7.78-7.78 2.81-2.81c.8-.78.8-2.07 0-2.86zM5.41 20L4 18.59l7.72-7.72 1.47 1.35L5.41 20z\"/>\n",
              "  </svg>\n",
              "      </button>\n",
              "      \n",
              "  <style>\n",
              "    .colab-df-container {\n",
              "      display:flex;\n",
              "      flex-wrap:wrap;\n",
              "      gap: 12px;\n",
              "    }\n",
              "\n",
              "    .colab-df-convert {\n",
              "      background-color: #E8F0FE;\n",
              "      border: none;\n",
              "      border-radius: 50%;\n",
              "      cursor: pointer;\n",
              "      display: none;\n",
              "      fill: #1967D2;\n",
              "      height: 32px;\n",
              "      padding: 0 0 0 0;\n",
              "      width: 32px;\n",
              "    }\n",
              "\n",
              "    .colab-df-convert:hover {\n",
              "      background-color: #E2EBFA;\n",
              "      box-shadow: 0px 1px 2px rgba(60, 64, 67, 0.3), 0px 1px 3px 1px rgba(60, 64, 67, 0.15);\n",
              "      fill: #174EA6;\n",
              "    }\n",
              "\n",
              "    [theme=dark] .colab-df-convert {\n",
              "      background-color: #3B4455;\n",
              "      fill: #D2E3FC;\n",
              "    }\n",
              "\n",
              "    [theme=dark] .colab-df-convert:hover {\n",
              "      background-color: #434B5C;\n",
              "      box-shadow: 0px 1px 3px 1px rgba(0, 0, 0, 0.15);\n",
              "      filter: drop-shadow(0px 1px 2px rgba(0, 0, 0, 0.3));\n",
              "      fill: #FFFFFF;\n",
              "    }\n",
              "  </style>\n",
              "\n",
              "      <script>\n",
              "        const buttonEl =\n",
              "          document.querySelector('#df-d67d3449-b466-44bf-a01a-70f190e70fcc button.colab-df-convert');\n",
              "        buttonEl.style.display =\n",
              "          google.colab.kernel.accessAllowed ? 'block' : 'none';\n",
              "\n",
              "        async function convertToInteractive(key) {\n",
              "          const element = document.querySelector('#df-d67d3449-b466-44bf-a01a-70f190e70fcc');\n",
              "          const dataTable =\n",
              "            await google.colab.kernel.invokeFunction('convertToInteractive',\n",
              "                                                     [key], {});\n",
              "          if (!dataTable) return;\n",
              "\n",
              "          const docLinkHtml = 'Like what you see? Visit the ' +\n",
              "            '<a target=\"_blank\" href=https://colab.research.google.com/notebooks/data_table.ipynb>data table notebook</a>'\n",
              "            + ' to learn more about interactive tables.';\n",
              "          element.innerHTML = '';\n",
              "          dataTable['output_type'] = 'display_data';\n",
              "          await google.colab.output.renderOutput(dataTable, element);\n",
              "          const docLink = document.createElement('div');\n",
              "          docLink.innerHTML = docLinkHtml;\n",
              "          element.appendChild(docLink);\n",
              "        }\n",
              "      </script>\n",
              "    </div>\n",
              "  </div>\n",
              "  "
            ]
          },
          "metadata": {},
          "execution_count": 185
        }
      ]
    },
    {
      "cell_type": "code",
      "source": [
        "#Decision_Tree\n",
        "model= DecisionTreeClassifier(criterion=\"entropy\")\n",
        "model.fit(X_train, y_train)\n",
        "y_pred = model.predict(X_test)"
      ],
      "metadata": {
        "id": "53V4WrKCC5CQ"
      },
      "execution_count": null,
      "outputs": []
    },
    {
      "cell_type": "code",
      "source": [
        "#Confusion_Matrix\n",
        "print(metrics.confusion_matrix(y_test, y_pred))\n",
        "print(classification_report(y_test, y_pred))"
      ],
      "metadata": {
        "id": "TvDRRDknDAAZ",
        "colab": {
          "base_uri": "https://localhost:8080/"
        },
        "outputId": "be9b524a-6e10-43dc-9ac2-137ccb70c0fe"
      },
      "execution_count": null,
      "outputs": [
        {
          "output_type": "stream",
          "name": "stdout",
          "text": [
            "[[64976   543     1]\n",
            " [  528 60966   587]\n",
            " [    0   564 65863]]\n",
            "              precision    recall  f1-score   support\n",
            "\n",
            "           0       0.99      0.99      0.99     65520\n",
            "           1       0.98      0.98      0.98     62081\n",
            "           2       0.99      0.99      0.99     66427\n",
            "\n",
            "    accuracy                           0.99    194028\n",
            "   macro avg       0.99      0.99      0.99    194028\n",
            "weighted avg       0.99      0.99      0.99    194028\n",
            "\n"
          ]
        }
      ]
    },
    {
      "cell_type": "code",
      "source": [
        "import pickle\n",
        "filename = 'final_model.sav'\n",
        "pickle.dump(model, open(filename, 'wb'))\n",
        "\n",
        "# some time later...\n",
        "\n",
        "# load the model from disk\n",
        "loaded_model = pickle.load(open(filename, 'rb'))\n",
        "result = loaded_model.score(X_test, y_test)\n",
        "print(result,'% Acuuracy')"
      ],
      "metadata": {
        "id": "d7PEP-b-DJXp",
        "colab": {
          "base_uri": "https://localhost:8080/"
        },
        "outputId": "cb9a444d-0587-47af-e283-9b4cadaaeaf4"
      },
      "execution_count": null,
      "outputs": [
        {
          "output_type": "stream",
          "name": "stdout",
          "text": [
            "0.9885428907168038 % Acuuracy\n"
          ]
        }
      ]
    }
  ]
}